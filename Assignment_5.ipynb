{
  "nbformat": 4,
  "nbformat_minor": 0,
  "metadata": {
    "colab": {
      "provenance": []
    },
    "kernelspec": {
      "name": "python3",
      "display_name": "Python 3"
    },
    "language_info": {
      "name": "python"
    }
  },
  "cells": [
    {
      "cell_type": "markdown",
      "source": [
        "#Theory Questions\n"
      ],
      "metadata": {
        "id": "tC24OxivHGRu"
      }
    },
    {
      "cell_type": "markdown",
      "source": [
        "1. What is the difference between **interpreted** and **compiled languages?**\n",
        "\n",
        "> ***Compiled language*** > Source code is translated entirely into machine code by a compiler before it is run. The resulting machine code is then run directly by the system.Examples: C, C++.\n",
        "\n",
        "> ***Interpreted language*** > Source code is read and executed line-by-line by an interpreter at runtime.No separate machine code file is created; the interpreter runs the code directly.Examples: Python, JavaScript."
      ],
      "metadata": {
        "id": "qHx6bWyUHKTW"
      }
    },
    {
      "cell_type": "markdown",
      "source": [],
      "metadata": {
        "id": "39vZFEt_m5SX"
      }
    },
    {
      "cell_type": "code",
      "execution_count": null,
      "metadata": {
        "id": "m4bLE3sUGybl"
      },
      "outputs": [],
      "source": []
    },
    {
      "cell_type": "markdown",
      "metadata": {
        "id": "b5e157f9"
      },
      "source": [
        "2. What is Exception Handling in Python?\n",
        "\n",
        "> **Exception Handling** in Python is a mechanism to deal with errors that occur during the execution of a program. These errors, called exceptions, interrupt the normal flow of the program. Exception handling allows you to gracefully handle these errors, prevent the program from crashing, and provide a more robust user experience.\n",
        "\n",
        "> The primary constructs used for exception handling in Python are:\n",
        "> *   **`try`**: This block contains the code that might raise an exception.\n",
        "> *   **`except`**: This block is executed if a specific type of exception occurs within the ```try``` block.\n",
        "> *   **`else`**: This optional block is executed if no exception occurs in the `try` block.\n",
        "> *   **`finally`**: This optional block is always executed, regardless of whether an exception occurred or not. It is often used for cleanup operations.\n",
        "\n",
        "\n"
      ]
    },
    {
      "cell_type": "markdown",
      "metadata": {
        "id": "d47b2ace"
      },
      "source": [
        "3. What is the purpose of the `finally` block in exception handling?\n",
        "\n",
        "> The **`finally`** block in Python's exception handling is an optional block that is guaranteed to be executed regardless of whether an exception occurred in the `try` block or not. Its primary purpose is to define cleanup actions that must be performed in all circumstances, such as closing files, releasing resources, or ensuring that certain final operations are completed.\n",
        "\n",
        "```\n",
        "try:\n",
        "    x = int(input(\"Enter a number: \"))\n",
        "    y = 10 / x\n",
        "except ValueError:\n",
        "    print(\"Invalid input: not a number.\")\n",
        "finally:\n",
        "print(\"done\")\n",
        "```\n",
        "\n"
      ]
    },
    {
      "cell_type": "markdown",
      "metadata": {
        "id": "d230beb7"
      },
      "source": [
        "4. What is Logging in Python?\n",
        "\n",
        "> **Logging** in Python is a built-in module that provides a standard way to track events that happen when a software runs. It's a powerful tool for debugging, monitoring, and understanding the behavior of your applications. Instead of using `print()` statements, which can clutter output and are difficult to manage in larger projects, logging allows you to categorize and filter messages based on their severity level.\n",
        "\n",
        "> The different logging levels in Python, in increasing order of severity, are:\n",
        "> * **`DEBUG`**: Detailed information, typically of interest only when diagnosing problems.\n",
        "> * **`INFO`**: Confirmation that things are working as expected.\n",
        "> * **`WARNING`**: An indication that something unexpected happened, or indicative of some problem in the near future (e.g. 'disk space low'). The software is still working as expected.\n",
        "> * **`ERROR`**: Due to a more serious problem, the software has not been able to perform some function.\n",
        "> * **`CRITICAL`**: A serious error, indicating that the program itself may be unable to continue running.\n",
        "\n",
        "> You can configure logging to output messages to the console, a file, or even a remote server. This makes it very flexible for different use cases."
      ]
    },
    {
      "cell_type": "markdown",
      "metadata": {
        "id": "52a1c645"
      },
      "source": [
        "5. What is the significance of the `__del__` method in Python?\n",
        "\n",
        "> The `__del__` method, also known as the destructor, is a special method in Python that is called when an object is about to be garbage collected. It is intended to be used for cleanup operations that need to be performed when an object is no longer needed, such as closing file handles, releasing network connections, or cleaning up other external resources.\n",
        "\n",
        "> However, the use of `__del__` is often discouraged due to several reasons:\n",
        "> * **Unpredictable timing**: The exact time when `__del__` is called is not guaranteed. It depends on when the garbage collector runs, which can be influenced by various factors.\n",
        "> * **Circular references**: If objects have circular references, the garbage collector might not be able to collect them, and `__del__` might never be called.\n",
        "> * **Exceptions**: If an exception occurs within `__del__`, it can lead to unpredictable behavior and potential crashes.\n",
        "\n",
        "> In most cases, it is better to use alternative approaches for resource management, such as:\n",
        "> * **`with` statements and context managers**: For resources that need to be acquired and released in a predictable manner (e.g., files), using `with` statements with context managers is the preferred approach.\n",
        "> * **Explicit cleanup methods**: You can define a dedicated method for cleanup (e.g., `close()`, `shutdown()`) and call it explicitly when you are done with the object.\n",
        "\n",
        "> While `__del__` exists, it's crucial to understand its limitations and prefer other mechanisms for reliable resource cleanup in most scenarios."
      ]
    },
    {
      "cell_type": "markdown",
      "metadata": {
        "id": "f2d79a57"
      },
      "source": [
        "Q6. What is the difference between `import` and `from ... import` in Python?\n",
        "\n",
        "> Both `import` and `from ... import` are used to bring code from one module into another, but they do so in slightly different ways:\n",
        "> * **`import module_name`**: This imports the entire module. To access elements (functions, classes, variables) within the module, you need to use the module name followed by a dot (`.`) and the element name (e.g., `module_name.function_name()`). This approach keeps the namespace clean, as you always know which module an element comes from.\n",
        "> * **`from module_name import element_name`**: This imports only the specified `element_name` from the module directly into the current namespace. You can then use `element_name` directly without needing to prefix it with the module name (e.g., `function_name()`). You can also import multiple elements by separating them with commas (`from module_name import element1, element2`). You can even import all elements using `from module_name import *`, but this is generally discouraged as it can clutter the namespace and make it difficult to track where elements originated.\n",
        "\n",
        "> **In summary:**\n",
        "> * Use `import module_name` when you want to import the entire module and access its contents using the module name prefix. This is generally preferred for clarity and avoiding namespace conflicts.\n",
        "> * Use `from module_name import element_name` when you only need specific elements from a module and want to use them directly without the module name prefix. Be mindful of potential namespace collisions when using this approach, especially when importing multiple elements or using `import *`."
      ]
    },
    {
      "cell_type": "markdown",
      "source": [
        "7. How can you handle multiple exceptions in Python?\n",
        "\n",
        "> In Python, you can handle multiple exceptions using multiple except blocks, or by grouping exceptions in a single block.\n",
        "~~~\n",
        "#Multiple Exceptions\n",
        "try:\n",
        "    x = int(input(\"Enter a number: \"))\n",
        "    y = 10 / x\n",
        "except ValueError:\n",
        "    print(\"Invalid input: not a number.\")\n",
        "except ZeroDivisionError:\n",
        "    print(\"You can't divide by zero.\")\n",
        "~~~\n",
        "```\n",
        "#Single Exception\n",
        " try:\n",
        "    num = int(\"abc\")   # ValueError\n",
        " except (ValueError, ZeroDivisionError) as e:\n",
        "    print(\" Error occurred:\", e)\n",
        "```"
      ],
      "metadata": {
        "id": "mn1UhLfOzNK5"
      }
    },
    {
      "cell_type": "markdown",
      "metadata": {
        "id": "35b19dc9"
      },
      "source": [
        "8. What is the purpose of the `with` statement when handling files in Python?\n",
        "\n",
        "> The `with` statement in Python is primarily used for resource management, particularly when dealing with objects that need to be set up and then cleaned up afterwards, such as files. Its main purpose is to ensure that resources are properly acquired and released, even if errors occur.\n",
        "\n",
        "> When you use the `with` statement with a file, it automatically handles the opening and closing of the file. This is crucial because if you open a file manually and forget to close it, it can lead to resource leaks, where the file remains open and consumes system resources. The `with` statement guarantees that the file's `close()` method is called automatically when the block is exited, whether normally or due to an exception.\n",
        "```\n",
        "# Without 'with'\n",
        " file = open(\"sample.txt\", \"w\")\n",
        " file.write(\"Hello, World!\")\n",
        " file.close()   # must close manually\n",
        "```\n",
        "```\n",
        " # With 'with'\n",
        " with open(\"sample.txt\", \"w\") as f:\n",
        "    f.write(\"Hello, Python!\")   # file auto-closes after block ends\n",
        "```\n",
        "\n",
        "\n",
        "\n"
      ]
    },
    {
      "cell_type": "code",
      "source": [],
      "metadata": {
        "id": "g2VmJhfV4CFV"
      },
      "execution_count": null,
      "outputs": []
    },
    {
      "cell_type": "markdown",
      "metadata": {
        "id": "7a2a550d"
      },
      "source": [
        "9. What is the difference between Multithreading and Multiprocessing?\n",
        "\n",
        "> Both **Multithreading** and **Multiprocessing** are techniques used to achieve concurrency, allowing a program to perform multiple tasks seemingly at the same time. However, they differ fundamentally in how they achieve this:\n",
        "\n",
        "> **Multithreading:**\n",
        "> * **Definition:** Threads are smaller units within a process. A single process can have multiple threads running concurrently.\n",
        "> * **Memory:** All threads within a process share the same memory space. This makes communication between threads easier but also requires careful handling to avoid race conditions and other concurrency issues (often addressed with locks and other synchronization primitives).\n",
        "> * **Execution:** Threads in Python (due to the Global Interpreter Lock or GIL) are limited in their ability to execute truly in parallel on multi-core processors for CPU-bound tasks. The GIL allows only one thread to execute Python bytecode at a time. Multithreading is generally more suitable for I/O-bound tasks (like reading/writing files or network communication) where threads can yield control while waiting for I/O operations to complete.\n",
        "> * **Creation Overhead:** Creating threads is generally faster and requires less overhead than creating processes.\n",
        "\n",
        "> **Multiprocessing:**\n",
        "> * **Definition:** Processes are independent units of execution. Each process has its own separate memory space.\n",
        "> * **Memory:** Processes do not share memory by default. Communication between processes requires explicit mechanisms like pipes or queues. This isolation provides better protection against issues like race conditions but makes communication more complex.\n",
        "> * **Execution:** Processes can execute truly in parallel on multi-core processors, making multiprocessing suitable for CPU-bound tasks that benefit from parallel execution.\n",
        "> * **Creation Overhead:** Creating processes is generally slower and requires more overhead than creating threads.\n",
        "\n",
        "> **In summary:**\n",
        "\n",
        "> | Feature         | Multithreading                      | Multiprocessing                      |\n",
        "> |-----------------|-------------------------------------|--------------------------------------|\n",
        "> | **Unit**        | Threads within a single process     | Independent processes                |\n",
        "> | **Memory**      | Shared memory space                 | Separate memory spaces               |\n",
        "> | **Parallelism** | Limited by GIL for CPU-bound tasks  | True parallelism for CPU-bound tasks |\n",
        "> | **Communication**| Easier (shared memory), but needs synchronization | Explicit mechanisms (pipes, queues) |\n",
        "> | **Overhead**    | Lower                               | Higher                               |\n",
        "> | **Best for**    | I/O-bound tasks                     | CPU-bound tasks                      |\n",
        "\n",
        "> Choosing between multithreading and multiprocessing depends on the nature of the task. For tasks that involve waiting for external resources (I/O-bound), multithreading can be efficient. For tasks that are computationally intensive and can be divided into independent parts (CPU-bound), multiprocessing is usually the better choice to leverage multi-core processors."
      ]
    },
    {
      "cell_type": "markdown",
      "metadata": {
        "id": "05236b74"
      },
      "source": [
        "10. What are the advantages of using Logging in a program?\n",
        "\n",
        "> Using logging in a program offers several significant advantages over simply using `print()` statements for debugging and tracking program execution:\n",
        "> * **Categorization and Filtering:** Logging allows you to categorize messages based on their severity level (DEBUG, INFO, WARNING, ERROR, CRITICAL). This makes it easy to filter messages and view only the information you need, which is especially helpful in complex applications. You can configure your logger to only show messages above a certain severity level, reducing clutter.\n",
        "> * **Persistence:** Logging messages can be directed to various destinations, such as files, databases, or remote servers. This persistence allows you to record program behavior over time, which is invaluable for post-mortem analysis of errors or unexpected events. `print()` statements only output to the console, which is often ephemeral.\n",
        "> * **Structured Information:** Logging messages typically include timestamps, the name of the logger, the severity level, and the message itself. This structured information makes it easier to understand the context of an event and track down the source of issues. You can also include additional contextual information within your log messages.\n",
        "> * **Configurability:** Python's logging module is highly configurable. You can control the format of log messages, the destination of the logs, and the logging level for different parts of your application. This flexibility allows you to tailor your logging setup to your specific needs.\n",
        "> * **Separation of Concerns:** Logging separates the process of reporting events from the core logic of your application. This makes your code cleaner and easier to maintain.\n",
        "> * **Debugging and Monitoring:** Logging is an essential tool for debugging. By strategically placing log messages in your code, you can track the flow of execution, inspect variable values, and identify where errors are occurring. It is also crucial for monitoring production systems, allowing you to detect issues early and understand the behavior of your application in a live environment.\n",
        "> * **Flexibility in Output:** You can easily change where log messages are sent (console, file, network) without modifying the code that generates the log messages. This is a significant advantage for managing output in different environments (development, testing, production).\n",
        "\n",
        "> In summary, logging provides a more structured, persistent, and configurable way to track program execution compared to simple `print()` statements. It is a fundamental practice for building robust, maintainable, and debuggable applications."
      ]
    },
    {
      "cell_type": "markdown",
      "metadata": {
        "id": "a7b3a720"
      },
      "source": [
        "11. What is Memory Management in Python?\n",
        "\n",
        "> **Memory Management** in Python is the process by which Python handles the allocation and deallocation of memory for objects. Python has a private heap where all objects and data structures are stored. The management of this private heap is done internally by the Python memory manager.\n",
        "\n",
        "> The primary mechanisms Python uses for memory management are:\n",
        "> * **Reference Counting:** This is the primary method. Every object in Python has a reference count, which is the number of pointers pointing to that object. When the reference count of an object drops to zero, it means the object is no longer accessible and the memory occupied by it can be reclaimed.\n",
        "> * **Garbage Collection:** While reference counting handles most cases, it cannot handle circular references (where two or more objects refer to each other, but are not referred to by anything else). Python's garbage collector is a separate module that periodically runs to detect and clean up these uncollectible cycles of objects. It uses a cycle detection algorithm to find these cycles and then deallocates the memory.\n",
        "\n",
        "> **Key aspects of Python's Memory Management:**\n",
        "> * **Automatic Allocation and Deallocation:** Python automatically allocates memory for new objects and deallocates it when objects are no longer needed. This frees the programmer from manual memory management, reducing the risk of memory leaks and segmentation faults.\n",
        "> * **Private Heap:** All Python objects reside in a private heap. This heap is managed by the Python interpreter, and the programmer does not directly interact with it.\n",
        "> * **Memory Pools:** For smaller objects, Python uses memory pools (also known as object pools). This helps to speed up memory allocation and reduce fragmentation by pre-allocating blocks of memory for commonly used object types.\n"
      ]
    },
    {
      "cell_type": "markdown",
      "metadata": {
        "id": "1ed1223a"
      },
      "source": [
        "12. What are the basic steps involved in Exception Handling in Python?\n",
        "\n",
        "> The basic steps involved in exception handling in Python using the `try`, `except`, `else`, and `finally` blocks are:\n",
        "\n",
        "> 1.  **Identify the potentially problematic code:** Place the code that might raise an exception inside the `try` block. This is the code you want to \"try\" to execute.\n",
        ">     ```python\n",
        ">     try:\n",
        ">         # Code that might raise an exception\n",
        ">         result = 10 / 0  # This will raise a ZeroDivisionError\n",
        ">     except:\n",
        ">         pass # Placeholder for now\n",
        ">     ```\n",
        "\n",
        "> 2.  **Catch the exception:** Use one or more `except` blocks to specify how to handle different types of exceptions that might occur within the `try` block. You can specify the type of exception you want to catch.\n",
        ">     ```python\n",
        ">     try:\n",
        ">         result = 10 / 0\n",
        ">     except ZeroDivisionError:\n",
        ">         print(\"Error: Cannot divide by zero!\")\n",
        ">     ```\n",
        ">     You can also catch multiple exceptions in a single `except` block by providing a tuple of exception types.\n",
        ">     ```python\n",
        ">     try:\n",
        ">         value = int(\"abc\") # This will raise a ValueError\n",
        ">     except (ValueError, TypeError):\n",
        ">         print(\"Error: Invalid value or type!\")\n",
        ">     ```\n",
        "\n",
        "> 3.  **Execute code if no exception occurs (optional):** Use the `else` block to specify code that should be executed only if no exception is raised in the `try` block.\n",
        ">     ```python\n",
        ">     try:\n",
        ">         result = 10 / 2\n",
        ">     except ZeroDivisionError:\n",
        ">         print(\"Error: Cannot divide by zero!\")\n",
        ">     else:\n",
        ">         print(\"Division successful! Result:\", result)\n",
        ">     ```\n",
        "\n",
        "> 4.  **Perform cleanup actions (optional):** Use the `finally` block to specify code that should be executed regardless of whether an exception occurred or not. This is typically used for cleanup operations like closing files or releasing resources.\n",
        ">     ```python\n",
        ">     try:\n",
        ">         file = open(\"my_file.txt\", \"r\")\n",
        ">         content = file.read()\n",
        ">     except FileNotFoundError:\n",
        ">         print(\"Error: File not found.\")\n",
        ">     finally:\n",
        ">         if 'file' in locals() and file: # Check if file was opened successfully\n",
        ">             file.close()\n",
        ">             print(\"File closed.\")\n",
        ">     ```\n",
        "\n",
        "> By combining these blocks, you can create robust code that can gracefully handle potential errors, prevent program crashes, and maintain control flow."
      ]
    },
    {
      "cell_type": "markdown",
      "metadata": {
        "id": "1dad2b12"
      },
      "source": [
        "13. Why is Memory Management important in Python?\n",
        "\n",
        "> Although Python's automatic memory management (via reference counting and garbage collection) frees developers from manual memory allocation and deallocation, understanding its importance is still crucial for several reasons:\n",
        "\n",
        "> *   **Preventing Memory Leaks:** While Python handles deallocation, poorly written code can still create situations where objects are no longer needed but their reference counts never drop to zero (e.g., circular references not detected by the garbage collector in certain scenarios, or objects unintentionally held in data structures). Understanding how reference counting and garbage collection work helps in writing code that avoids such leaks, which can lead to increased memory consumption and potentially program crashes over time.\n",
        "> *   **Optimizing Performance:** In memory-intensive applications, inefficient memory usage can significantly impact performance. Understanding how Python allocates and deallocates memory, and how memory pools work, can help developers write more memory-efficient code. This might involve choosing appropriate data structures, avoiding unnecessary object creation, or understanding when the garbage collector might be impacting performance.\n",
        "> *   **Debugging:** Memory-related issues, while less common than in languages with manual memory management, can still occur in Python. Understanding the underlying memory management mechanisms helps in diagnosing and debugging these issues, such as unexpected memory growth or crashes related to object lifetimes.\n",
        "> *   **Resource Management:** Beyond just memory, many resources (like file handles, network connections, database connections) need proper management to avoid leaks. While `with` statements and context managers are the preferred way to handle many of these, understanding the principles of resource deallocation, which are related to memory management concepts like `__del__`, is still relevant.\n",
        "> *   **Predicting Behavior:** Knowing how Python manages memory can help predict the behavior of your programs, especially in scenarios involving large datasets or long-running processes. This understanding is valuable for capacity planning and ensuring the stability of your applications.\n",
        "\n",
        "> In essence, while Python abstracts away much of the complexity of memory management, a basic understanding of its principles is vital for writing efficient, robust, and debuggable Python code. It empowers developers to diagnose issues, optimize performance, and write code that interacts harmoniously with the Python runtime environment."
      ]
    },
    {
      "cell_type": "markdown",
      "metadata": {
        "id": "f6fd1e8e"
      },
      "source": [
        "14. What is the role of `try` and `except` in Exception Handling?\n",
        "\n",
        "> The `try` and `except` blocks are the fundamental components of exception handling in Python. They allow you to anticipate and handle potential errors that might occur during the execution of your code, preventing your program from crashing.\n",
        "\n",
        "> **`try` Block:**\n",
        "> *   **Role:** The `try` block contains the code that you suspect might raise an exception. This is the code that will be \"tried\" for execution. If an exception occurs within this block, the rest of the code in the `try` block is skipped, and Python looks for a matching `except` block to handle the exception.\n",
        "> *   **Purpose:** To isolate the code that is prone to errors and to define a scope where exceptions can be caught.\n",
        "\n",
        "> **`except` Block:**\n",
        "> *   **Role:** The `except` block is executed if a specific type of exception (or any exception, if no type is specified) occurs in the preceding `try` block.\n",
        "> *   **Purpose:** To define how your program should respond to a particular type of exception. This can involve printing an error message, logging the error, attempting to recover from the error, or exiting the program gracefully.\n",
        "\n",
        "> **How they work together:**\n",
        "\n",
        "> When the Python interpreter encounters a `try` block, it attempts to execute the code within it.\n",
        "> *   If no exception occurs, the `except` block(s) are skipped, and the program continues after the `try...except` structure.\n",
        "> *   If an exception occurs within the `try` block, Python stops executing the `try` block and searches for an `except` block that matches the type of the raised exception.\n",
        "> *   If a matching `except` block is found, the code within that `except` block is executed.\n",
        "> *   If no matching `except` block is found, the exception is unhandled, and the program will terminate and display a traceback.\n",
        "\n",
        "> **Examples:**\n",
        "\n",
        "> **Example 1: Handling a `ZeroDivisionError`**\n",
        "> ```python\n",
        "> try:\n",
        ">     numerator = 10\n",
        ">     denominator = 0\n",
        ">     result = numerator / denominator  # This will raise a ZeroDivisionError\n",
        ">     print(\"Result:\", result)\n",
        "> except ZeroDivisionError:\n",
        ">     print(\"Error: Cannot divide by zero!\")\n",
        "> ```\n",
        "> In this example, the division by zero in the `try` block raises a `ZeroDivisionError`. The `except ZeroDivisionError` block catches this specific exception and prints an informative error message.\n",
        "\n",
        "> **Example 2: Handling a `ValueError`**\n",
        "> ```python\n",
        "> try:\n",
        ">     age = int(input(\"Enter your age: \")) # Might raise ValueError if input is not a number\n",
        ">     print(\"Your age is:\", age)\n",
        "> except ValueError:\n",
        ">     print(\"Error: Invalid input. Please enter a valid number for your age.\")\n",
        "> ```\n",
        "> Here, if the user enters a non-numeric value, the `int()` function will raise a `ValueError`. The `except ValueError` block catches this and prompts the user for valid input.\n",
        "\n",
        "> **Example 3: Catching any exception**\n",
        "> ```python\n",
        "> try:\n",
        ">     # Some code that might raise various exceptions\n",
        ">     file = open(\"non_existent_file.txt\", \"r\") # Might raise FileNotFoundError\n",
        ">     content = file.read()\n",
        ">     print(content)\n",
        ">     file.close()\n",
        "> except: # Catches any exception\n",
        ">     print(\"An unexpected error occurred.\")\n",
        "> ```\n",
        "> While generally discouraged in production code as it can hide specific error types, you can use a bare `except` block to catch any type of exception. It's usually better to catch specific exceptions to handle them appropriately.\n",
        "\n",
        "> **Example 4: Catching multiple specific exceptions**\n",
        "> ```python\n",
        "> try:\n",
        ">     number = int(input(\"Enter a number: \"))\n",
        ">     result = 100 / number\n",
        ">     print(\"Result:\", result)\n",
        "> except (ValueError, ZeroDivisionError):\n",
        ">     print(\"Error: Invalid input or division by zero.\")\n",
        "> ```\n",
        "> You can catch multiple specific exceptions by providing a tuple of exception types in the `except` clause."
      ]
    },
    {
      "cell_type": "markdown",
      "metadata": {
        "id": "954a3a38"
      },
      "source": [
        "15. How does Python's Garbage Collection system work?\n",
        "\n",
        "> Python's Garbage Collection automatically reclaims memory from objects that are no longer needed. It primarily uses:\n",
        "\n",
        "> 1.  **Reference Counting:** Each object tracks how many variables or objects refer to it. When this count drops to zero, the object's memory is immediately freed.\n",
        "\n",
        ">     ```python\n",
        ">     x = [1, 2, 3] # Reference count of [1, 2, 3] is 1 (from x)\n",
        ">     y = x         # Reference count of [1, 2, 3] is 2 (from x and y)\n",
        ">     del x         # Reference count of [1, 2, 3] is 1 (from y)\n",
        ">     del y         # Reference count of [1, 2, 3] is 0. Memory is reclaimed.\n",
        ">     ```\n",
        "\n",
        "> 2.  **Cycle Detection (for circular references):** Reference counting can't handle objects that refer to each other in a cycle but nothing else refers to them. Python's garbage collector periodically runs to find and clean up these cycles.\n",
        "\n",
        ">     ```python\n",
        ">     import gc\n",
        ">\n",
        ">     class Node:\n",
        ">         def __init__(self):\n",
        ">             self.next = None\n",
        ">\n",
        ">     a = Node()\n",
        ">     b = Node()\n",
        ">     a.next = b # a refers to b\n",
        ">     b.next = a # b refers to a (circular reference)\n",
        ">\n",
        ">     # Even if 'a' and 'b' variables are deleted,\n",
        ">     # the objects still refer to each other, their ref counts won't be zero.\n",
        ">     del a\n",
        ">     del b\n",
        ">\n",
        ">     # The garbage collector detects and cleans up this cycle.\n",
        ">     gc.collect()\n",
        ">     print(\"Garbage collection complete.\")\n",
        ">     ```\n",
        "\n",
        "> In essence, reference counting handles most garbage quickly, and cycle detection handles the trickier cases of circular references."
      ]
    },
    {
      "cell_type": "markdown",
      "source": [
        "16. What is the purpose of the else block in exception handling?\n",
        "\n",
        "> **PURPOSE:**\n",
        "The else block contains code that should run only if no exceptions occur in the try block.\n",
        "\n",
        "> STRUCTURE:\n",
        "```\n",
        "try:\n",
        "    # Code that might raise an exception\n",
        "except SomeException:\n",
        "    # Code that runs if exception occurs\n",
        "else:\n",
        "    # Code that runs ONLY if no exception occurs\n",
        "```\n",
        "     \n",
        "> **KEY POINTS:**\n",
        "*  The else block runs only when the try block succeeds without errors.\n",
        "\n",
        "*   It is often used for code that should execute only when everything goes well inside try.\n",
        "\n",
        "*  It helps keep the try block focused on risky operations (like file I/O, division, etc.), while moving the \"safe\" follow-up logic into else.\n",
        "\n",
        "EXAMPLE:\n",
        "```\n",
        "try:\n",
        "    num = int(input(\"Enter a number: \"))\n",
        "    result = 10 / num\n",
        "except ZeroDivisionError:\n",
        "    print(\"You can't divide by zero!\")\n",
        "except ValueError:\n",
        "    print(\"Invalid input, please enter a number.\")\n",
        "else:\n",
        "    print(\"Success! The result is:\", result)\n",
        "```"
      ],
      "metadata": {
        "id": "aYeOGo7eC2ch"
      }
    },
    {
      "cell_type": "markdown",
      "metadata": {
        "id": "e5a1b62f"
      },
      "source": [
        "17. What are the common logging levels in Python?\n",
        "\n",
        "> Logging levels in Python are used to categorize logging messages based on their severity or importance. This allows you to control which messages are displayed or recorded, making it easier to filter and analyze logs. The standard logging levels in Python, in increasing order of severity, are:\n",
        "\n",
        "> *   **`DEBUG`**: The lowest level. Provides detailed information, typically of interest only when diagnosing problems. This level is often used for fine-grained events that happen during the normal operation of the program, useful for tracing the execution flow.\n",
        "\n",
        "> *   **`INFO`**: Confirmation that things are working as expected. This level is used for general information about the program's state or progress. It's useful for understanding the normal operation of the application.\n",
        "\n",
        "> *   **`WARNING`**: An indication that something unexpected happened, or indicative of some problem in the near future (e.g. 'disk space low'). The software is still working as expected, but a potential issue has been detected.\n",
        "\n",
        "> *   **`ERROR`**: Due to a more serious problem, the software has not been able to perform some function. This indicates a significant issue that prevents a specific operation from completing successfully.\n",
        "\n",
        "> *   **`CRITICAL`**: The highest level. A serious error, indicating that the program itself may be unable to continue running. This level is used for severe errors that might lead to the program's termination.\n",
        "\n",
        "> When you configure a logger, you set a logging level. The logger will then process messages at that level and all levels above it. For example, if you set the level to `WARNING`, the logger will handle `WARNING`, `ERROR`, and `CRITICAL` messages, but ignore `DEBUG` and `INFO` messages.\n",
        "\n",
        "> Using appropriate logging levels is crucial for effective logging. During development, you might use `DEBUG` or `INFO` to get detailed information. In production, you might set the level to `WARNING` or `ERROR` to focus on potential issues and errors."
      ]
    },
    {
      "cell_type": "markdown",
      "metadata": {
        "id": "aa8911a2"
      },
      "source": [
        "18. What is the difference between `os.fork()` and `multiprocessing` in Python?\n",
        "\n",
        "> Both `os.fork()` and the `multiprocessing` module are used to create new processes in Python, enabling parallel execution. However, they represent different levels of abstraction and have different use cases and characteristics.\n",
        "\n",
        "> **`os.fork()`:**\n",
        "> *   **Definition:** `os.fork()` is a lower-level system call that is available on Unix-like systems (Linux, macOS, etc.). When `os.fork()` is called, it creates a new process that is a copy of the calling process. The child process inherits the memory space, file descriptors, and other resources of the parent process at the time of the `fork` call.\n",
        "> *   **Return Value:** `os.fork()` returns 0 in the child process and the child's process ID (PID) in the parent process. This return value is used to differentiate between the parent and child processes and execute different code paths.\n",
        "> *   **Complexity:** Working directly with `os.fork()` can be more complex, especially when it comes to communication between processes and managing shared resources. You typically need to use lower-level inter-process communication (IPC) mechanisms like pipes or shared memory explicitly.\n",
        "> *   **Portability:** `os.fork()` is not available on Windows. Code that uses `os.fork()` is therefore not portable to Windows environments.\n",
        "> *   **Use Case:** `os.fork()` is often used for simple process creation or when you need fine-grained control over the process's environment and resources immediately after creation.\n",
        "\n",
        "> **`multiprocessing` module:**\n",
        "> *   **Definition:** The `multiprocessing` module is a higher-level, cross-platform library in Python that provides an API for creating and managing processes. It abstracts away much of the complexity of using `os.fork()` directly and provides more convenient ways to handle inter-process communication and synchronization.\n",
        "> *   **Abstraction:** The `multiprocessing` module provides classes and functions like `Process`, `Pool`, `Queue`, and `Lock` that simplify common multiprocessing patterns. It can use `os.fork()` internally on Unix-like systems, but it can also use other methods (like spawning new processes) on systems where `os.fork()` is not available (like Windows).\n",
        "> *   **Ease of Use:** The `multiprocessing` module is generally easier to use for typical multiprocessing tasks, especially for parallelizing functions or managing pools of worker processes.\n",
        "> *   **Portability:** The `multiprocessing` module is designed to be cross-platform, allowing you to write multiprocessing code that works on both Unix-like systems and Windows.\n",
        "> *   **Use Case:** The `multiprocessing` module is the recommended way to achieve process-based parallelism in Python for most applications, especially when you need to leverage multiple CPU cores for CPU-bound tasks or when you need a portable solution.\n",
        "\n",
        "> **In summary:**\n",
        "\n",
        "> | Feature         | `os.fork()`                                  | `multiprocessing` module                      |\n",
        "> |-----------------|----------------------------------------------|-----------------------------------------------|\n",
        "> | **Level**       | Lower-level system call                      | Higher-level Python library                   |\n",
        "> | **Complexity**  | More complex (manual IPC)                    | Simpler (abstracted IPC and management)       |\n",
        "> | **Portability** | Unix-like systems only                       | Cross-platform (Unix-like and Windows)        |\n",
        "> | **IPC**         | Manual (pipes, shared memory, etc.)          | Provided mechanisms (`Queue`, `Pipe`, etc.)   |\n",
        "> | **Use Case**    | Simple process creation, fine-grained control | General-purpose multiprocessing, portability  |\n",
        "\n",
        "> While `os.fork()` is a fundamental building block on Unix-like systems, the `multiprocessing` module is the preferred and more convenient approach for most Python multiprocessing tasks due to its higher level of abstraction, ease of use, and cross-platform compatibility."
      ]
    },
    {
      "cell_type": "markdown",
      "metadata": {
        "id": "64d3c509"
      },
      "source": [
        "19. What is the importance of closing a file in Python?\n",
        "\n",
        "> Closing a file in Python after you are done with it is crucial for several reasons, even though Python has automatic garbage collection. Failing to close files properly can lead to various issues:\n",
        "\n",
        "> *   **Resource Management:** When you open a file, the operating system allocates resources to manage that file. These resources include file descriptors, memory buffers, and potentially locks. If you don't close the file, these resources remain allocated even after your program has finished using the file. In programs that open many files or run for a long time, this can lead to resource exhaustion, where the operating system runs out of available file descriptors or memory, potentially causing other parts of your program or even other applications to fail.\n",
        "\n",
        "> *   **Data Integrity (Buffering):** When you write to a file, the data is often not written directly to the physical disk immediately. Instead, it's buffered in memory for performance reasons. The data is only flushed from the buffer to the disk when the buffer is full, or when the file is explicitly closed, or when the program exits normally. If you don't close the file, the buffered data might not be written to the disk, leading to data loss or corruption.\n",
        "\n",
        "> *   **Locking:** Some operating systems and file systems use file locking mechanisms to prevent multiple processes from writing to the same file simultaneously, which could lead to data corruption. When a file is opened, a lock might be acquired. If the file is not closed, the lock might persist, preventing other processes from accessing or modifying the file.\n",
        "\n",
        "> *   **Consistency:** Closing a file ensures that all pending write operations are completed and the file's metadata (like size and modification time) is updated correctly on the file system. This is important for maintaining the consistency and integrity of your data.\n",
        "\n",
        "> *   **Portability:** While some operating systems might automatically close files when a program exits, relying on this behavior is not portable across all systems or Python versions. Explicitly closing files ensures consistent behavior regardless of the environment.\n",
        "\n",
        "> *   **Error Handling:** If an error occurs in your program before a file is closed, the file might remain open, potentially leading to resource leaks. Using `try...finally` blocks or, preferably, the `with` statement with context managers (as discussed in Q8) ensures that the file is closed even if exceptions occur.\n",
        "\n",
        "> **The best practice for handling files in Python is to use the `with` statement.** The `with` statement guarantees that the file's `close()` method is called automatically when the block is exited, regardless of whether an exception occurred or not.\n",
        "\n",
        "> ```python\n",
        "> # Recommended way to handle files\n",
        "> with open(\"my_file.txt\", \"w\") as f:\n",
        ">     f.write(\"This data will be written to the file.\")\n",
        "> # File is automatically closed here\n",
        "> ```\n",
        "\n",
        "> In summary, closing files in Python is essential for proper resource management, ensuring data integrity, releasing locks, maintaining consistency, and writing portable and robust code. The `with` statement is the most recommended way to achieve this."
      ]
    },
    {
      "cell_type": "markdown",
      "metadata": {
        "id": "41ff754f"
      },
      "source": [
        "20. What is the difference between `file.read()` and `file.readline()` in Python?\n",
        "\n",
        "> Both `file.read()` and `file.readline()` are methods used to read content from a file in Python, but they differ in how much data they read at a time:\n",
        "\n",
        "> *   **`file.read(size=-1)`:**\n",
        ">     *   **Purpose:** Reads the entire content of the file as a single string.\n",
        ">     *   **Behavior:** If the optional `size` argument is provided, it reads at most `size` bytes from the file. If `size` is omitted or negative (the default), it reads the entire file until the end-of-file (EOF) is reached.\n",
        ">     *   **Return Value:** Returns the read content as a string. If the EOF is reached and no bytes are read, it returns an empty string (`''`).\n",
        ">     *   **Use Case:** Suitable for reading small to medium-sized files where you need the entire content in memory at once.\n",
        "\n",
        ">     ```python\n",
        ">     # Example of file.read()\n",
        ">     with open(\"sample.txt\", \"r\") as f:\n",
        ">         content = f.read()\n",
        ">         print(content)\n",
        ">     ```\n",
        "\n",
        "> *   **`file.readline(size=-1)`:**\n",
        ">     *   **Purpose:** Reads a single line from the file. A line is considered to be terminated by a newline character (`\\n`), carriage return (`\\r`), or carriage return followed by a newline (`\\r\\n`).\n",
        ">     *   **Behavior:** Reads bytes from the file until a newline character is encountered or the EOF is reached. The newline character is kept at the end of the string if found. If the optional `size` argument is provided, it reads at most `size` bytes, but it will not read beyond the next newline character even if `size` is larger.\n",
        ">     *   **Return Value:** Returns the read line as a string. If the EOF is reached and no bytes are read, it returns an empty string (`''`).\n",
        ">     *   **Use Case:** Suitable for reading files line by line, which is useful for processing large files that may not fit entirely in memory, or when you need to process the file's content line by line.\n",
        "\n",
        ">     ```python\n",
        ">     # Example of file.readline()\n",
        ">     with open(\"sample.txt\", \"r\") as f:\n",
        ">         line1 = f.readline()\n",
        ">         line2 = f.readline()\n",
        ">         print(\"First line:\", line1)\n",
        ">         print(\"Second line:\", line2)\n",
        ">     ```\n",
        "\n",
        "> **In summary:**\n",
        "\n",
        "> | Feature         | `file.read()`                                  | `file.readline()`                               |\n",
        "> |-----------------|------------------------------------------------|-------------------------------------------------|\n",
        "> | **Amount Read** | Entire file (or specified size)                | Single line                                     |\n",
        "> | **Return Type** | Single string                                  | Single string (including newline if present)    |\n",
        "> | **Use Case**    | Small to medium files, need all content at once | Large files, line-by-line processing            |\n"
      ]
    },
    {
      "cell_type": "markdown",
      "metadata": {
        "id": "bf58fa74"
      },
      "source": [
        "21. What is the logging module in Python used for?\n",
        "\n",
        "> The `logging` module in Python is a powerful and flexible standard library module that provides a standardized way to track events that happen when a program runs. Its primary purpose is to help developers:\n",
        "> *   **Debug applications:** By strategically adding log messages at different points in the code, developers can track the flow of execution, inspect variable values, and understand the program's state at various stages. This is significantly more effective than using simple `print()` statements, especially in larger or more complex applications.\n",
        "> *   **Monitor applications:** Logging allows you to record information about the program's behavior during production. This includes tracking significant events, performance metrics, and potential issues. Monitoring logs can help identify problems in a live environment and understand how the application is performing.\n",
        "> *   **Analyze program behavior:** Logs provide a historical record of what happened during a program's execution. This historical data can be invaluable for post-mortem analysis of errors, understanding user behavior, and identifying patterns or trends.\n",
        "> *   **Categorize messages by severity:** The `logging` module allows you to assign different severity levels (DEBUG, INFO, WARNING, ERROR, CRITICAL) to your messages. This enables you to filter logs and focus on the most important information, making it easier to manage large volumes of log data.\n",
        "> *   **Direct output to various destinations:** Log messages can be configured to be sent to various output destinations, such as the console, files, network sockets, or even databases. This flexibility allows you to manage logs according to your specific needs and environment.\n",
        "> *   **Improve code maintainability:** Using a dedicated logging module promotes a cleaner separation of concerns. Logging logic is kept separate from the core application logic, making the codebase easier to understand, maintain, and modify.\n"
      ]
    },
    {
      "cell_type": "markdown",
      "metadata": {
        "id": "b30fac95"
      },
      "source": [
        "22. What is the `os` module in Python used for in file handling?\n",
        "\n",
        "> The `os` module in Python provides a way of using operating system-dependent functionality. When it comes to file handling, the `os` module is used for interacting with the file system and performing operations on files and directories, rather than directly reading from or writing to file content (which is done using the built-in `open()` function and file object methods like `read()`, `write()`, `readline()`, etc.).\n",
        "\n",
        "> Here are some common uses of the `os` module in file handling:\n",
        "\n",
        "> *   **Interacting with the file system path:**\n",
        ">     *   `os.path.join(path1, path2, ...)`: Joins one or more path components intelligently. This is platform-independent and recommended over string concatenation for creating paths.\n",
        ">     *   `os.path.abspath(path)`: Returns a normalized absolute version of the pathname.\n",
        ">     *   `os.path.exists(path)`: Checks if a path exists.\n",
        ">     *   `os.path.isfile(path)`: Checks if a path is a regular file.\n",
        ">     *   `os.path.isdir(path)`: Checks if a path is a directory.\n",
        ">     *   `os.path.split(path)`: Splits a path into a pair, `(head, tail)`, where `tail` is the last pathname component and `head` is everything leading up to that.\n",
        ">     *   `os.path.dirname(path)`: Returns the directory name of a pathname.\n",
        ">     *   `os.path.basename(path)`: Returns the base name of a pathname.\n",
        "\n",
        ">     ```python\n",
        ">     import os\n",
        ">\n",
        ">     file_path = os.path.join(\"my_folder\", \"my_subfolder\", \"my_file.txt\")\n",
        ">     print(f\"Joined path: {file_path}\")\n",
        ">\n",
        ">     if os.path.exists(file_path):\n",
        ">         print(f\"{file_path} exists.\")\n",
        ">     else:\n",
        ">         print(f\"{file_path} does not exist.\")\n",
        ">     ```\n",
        "\n",
        "> *   **Creating and deleting directories:**\n",
        ">     *   `os.mkdir(path)`: Creates a directory.\n",
        ">     *   `os.makedirs(path)`: Creates directories recursively.\n",
        ">     *   `os.rmdir(path)`: Removes an empty directory.\n",
        ">     *   `os.removedirs(path)`: Removes directories recursively if they are empty.\n",
        "\n",
        ">     ```python\n",
        ">     import os\n",
        ">\n",
        ">     try:\n",
        ">         os.mkdir(\"new_directory\")\n",
        ">         print(\"Directory 'new_directory' created.\")\n",
        ">     except FileExistsError:\n",
        ">         print(\"Directory 'new_directory' already exists.\")\n",
        ">     ```\n",
        "\n",
        "> *   **Renaming and deleting files and directories:**\n",
        ">     *   `os.rename(src, dst)`: Renames a file or directory from `src` to `dst`.\n",
        ">     *   `os.remove(path)`: Removes (deletes) a file.\n",
        ">     *   `os.unlink(path)`: Alias for `os.remove(path)`.\n",
        "\n",
        ">     ```python\n",
        ">     import os\n",
        ">\n",
        ">     # Create a dummy file for demonstration\n",
        ">     with open(\"old_name.txt\", \"w\") as f:\n",
        ">         f.write(\"This is a test file.\")\n",
        ">\n",
        ">     os.rename(\"old_name.txt\", \"new_name.txt\")\n",
        ">     print(\"File renamed from old_name.txt to new_name.txt\")\n",
        ">\n",
        ">     os.remove(\"new_name.txt\")\n",
        ">     print(\"File new_name.txt removed.\")\n",
        ">     ```\n",
        "\n",
        "> *   **Listing directory contents:**\n",
        ">     *   `os.listdir(path='.')`: Returns a list containing the names of the entries in the directory given by `path`.\n",
        "\n",
        ">     ```python\n",
        ">     import os\n",
        ">\n",
        ">     print(\"Files and directories in the current directory:\")\n",
        ">     for item in os.listdir('.'):\n",
        ">         print(item)\n",
        ">     ```\n",
        "\n",
        "> *   **Getting file status:**\n",
        ">     *   `os.stat(path)`: Get the status of a file or a file descriptor. Returns a `stat_result` object containing information like file size, modification time, etc.\n",
        "\n",
        ">     ```python\n",
        ">     import os\n",
        ">\n",
        ">     # Create a dummy file for demonstration\n",
        ">     with open(\"my_status_file.txt\", \"w\") as f:\n",
        ">         f.write(\"Some content.\")\n",
        ">\n",
        ">     file_status = os.stat(\"my_status_file.txt\")\n",
        ">     print(f\"Size of my_status_file.txt: {file_status.st_size} bytes\")\n",
        ">     os.remove(\"my_status_file.txt\")\n",
        ">     ```\n",
        "\n",
        "> In summary, while the built-in file objects handle the actual reading and writing of data, the `os` module provides the tools to interact with the underlying file system, manage files and directories, and get information about them. It's essential for tasks like creating folders, checking file existence, renaming files, and navigating the file system."
      ]
    },
    {
      "cell_type": "markdown",
      "metadata": {
        "id": "45235e66"
      },
      "source": [
        "23. What are the challenges associated with memory management in Python?\n",
        "\n",
        "> While Python's automatic memory management simplifies development by handling allocation and deallocation, there are still some challenges associated with it that developers should be aware of:\n",
        "\n",
        "> *   **Memory Leaks (especially with circular references):** Although Python's garbage collector handles most circular references, it's not foolproof in all scenarios. Complex data structures or interactions with external resources (like C extensions) can sometimes lead to circular references that the garbage collector might not detect or collect promptly. This can result in memory leaks, where objects are no longer needed but their memory isn't reclaimed, leading to increased memory consumption over time.\n",
        "> *   **Unpredictable Garbage Collection Timing:** The exact timing of when the garbage collector runs is not deterministic. While reference counting provides immediate deallocation, the cycle detection garbage collector runs periodically or when certain thresholds are met. This means you can't always predict precisely when memory will be freed, which can be a concern in real-time systems or applications with strict memory requirements.\n",
        "> *   **Performance Overhead of Garbage Collection:** The garbage collector, especially the cycle detection part, introduces some performance overhead as it needs to periodically scan for uncollectible objects. While Python's garbage collector is generally optimized, in very memory-intensive applications with many short-lived objects or complex reference graphs, the garbage collection process can sometimes impact performance.\n",
        "> *   **Debugging Memory Issues:** While less frequent than in languages with manual memory management, diagnosing memory-related issues in Python can still be challenging. Tools for profiling memory usage and identifying leaks exist (like `memory_profiler` or `objgraph`), but understanding the underlying reference counting and garbage collection mechanisms is often necessary to effectively use these tools and pinpoint the root cause of memory problems.\n",
        "> *   **Interaction with C Extensions:** When using C extensions or libraries that interact directly with memory (e.g., using `ctypes`), managing memory and ensuring proper interaction with Python's garbage collector can be complex. Issues like dangling pointers or incorrect reference counting in C code can lead to crashes or memory corruption.\n",
        "> *   **Memory Fragmentation:** Over time, as objects are allocated and deallocated, the memory heap can become fragmented, with free memory scattered in small, non-contiguous blocks. While Python's memory pools for small objects help mitigate this to some extent, significant fragmentation can still occur and potentially impact the efficiency of memory allocation for larger objects.\n"
      ]
    },
    {
      "cell_type": "markdown",
      "metadata": {
        "id": "ba64fe41"
      },
      "source": [
        "24. How do you raise an exception manually in Python?\n",
        "\n",
        "> In Python, you can raise an exception manually using the `raise` keyword. This is useful when you encounter an error condition in your code that you want to signal to the calling code. You can raise built-in exceptions or custom exceptions that you define.\n",
        "\n",
        "> The basic syntax for raising an exception is:\n",
        "\n",
        "> ```python\n",
        "> raise ExceptionType(\"Optional error message\")\n",
        "> ```\n",
        "\n",
        "> **`ExceptionType`**: This is the type of exception you want to raise (e.g., `ValueError`, `TypeError`, `FileNotFoundError`, `MyCustomError`).\n",
        "> **`\"Optional error message\"`**: This is a string that provides a description of the error. It's good practice to include a clear and informative error message.\n",
        "\n",
        "> Here are a few examples:\n",
        "\n",
        "> **Raising a built-in exception:**\n",
        "> ```python\n",
        "> def process_positive_number(number):\n",
        ">     if number <= 0:\n",
        ">         raise ValueError(\"Input must be a positive number.\")\n",
        ">     # Process the positive number\n",
        ">     print(f\"Processing positive number: {number}\")\n",
        ">\n",
        "> try:\n",
        ">     process_positive_number(5)\n",
        ">     process_positive_number(-2)\n",
        "> except ValueError as e:\n",
        ">     print(f\"Caught an exception: {e}\")\n",
        "> ```\n",
        "> In this example, the `process_positive_number` function checks if the input is positive. If it's not, it manually raises a `ValueError` with a descriptive message. The `try...except` block catches this exception and prints the error message.\n",
        "\n",
        "> **Raising an exception without an argument:**\n",
        "> ```python\n",
        "> def risky_operation(value):\n",
        ">     if value is None:\n",
        ">         raise TypeError\n",
        ">     print(f\"Value is: {value}\")\n",
        ">\n",
        "> try:\n",
        ">     risky_operation(None)\n",
        "> except TypeError:\n",
        ">     print(\"Caught a TypeError.\")\n",
        "> ```\n",
        "> You can raise an exception without providing an error message. However, providing a message is generally recommended for better clarity.\n",
        "\n",
        "> **Raising a new exception from an existing one (Exception Chaining):**\n",
        "> ```python\n",
        "> try:\n",
        ">     # Some operation that might fail\n",
        ">     result = 10 / 0\n",
        "> except ZeroDivisionError as e:\n",
        ">     # Catch the original exception and raise a new one\n",
        ">     raise RuntimeError(\"An error occurred during calculation.\") from e\n",
        "> ```\n",
        "> The `from e` clause in the `raise` statement creates an exception chain. This is useful for indicating that a new exception was raised as a direct consequence of another exception. When the traceback is printed, it will show both the original exception and the new exception.\n",
        "\n",
        "> **Raising a custom exception:**\n",
        "> ```python\n",
        "> class CustomError(Exception):\n",
        ">     \"\"\"A custom exception for specific errors.\"\"\"\n",
        ">     pass\n",
        ">\n",
        "> def validate_input(value):\n",
        ">     if not isinstance(value, str):\n",
        ">         raise CustomError(\"Input must be a string.\")\n",
        ">     print(f\"Input is a string: {value}\")\n",
        ">\n",
        "> try:\n",
        ">     validate_input(123)\n",
        "> except CustomError as e:\n",
        ">     print(f\"Caught a custom exception: {e}\")\n",
        "> ```\n",
        "> You can define your own exception classes by inheriting from the built-in `Exception` class (or a more specific exception class). This allows you to create exceptions that are specific to your application's logic.\n"
      ]
    },
    {
      "cell_type": "markdown",
      "metadata": {
        "id": "0ef38b21"
      },
      "source": [
        "25. Why is it important to use multithreading in certain applications?\n",
        "\n",
        "> It's important to use multithreading in Python, despite the Global Interpreter Lock (GIL) limiting true parallelism for CPU-bound tasks, primarily for **I/O-bound applications**. Multithreading is crucial in these scenarios because it allows a program to remain responsive and make progress while waiting for external operations (like reading from a file, making a network request, or interacting with a database) to complete.\n",
        "\n",
        "> Here's a breakdown of why it's important:\n",
        "\n",
        "> *   **Handling I/O-bound tasks efficiently:** In I/O-bound tasks, the program spends a significant amount of time waiting for data to be read from or written to external devices. During these waiting periods, the CPU is largely idle. Multithreading allows other threads to run and perform useful work while one thread is blocked on an I/O operation. This prevents the entire program from being blocked and improves overall efficiency.\n",
        ">     *   **Example:** Downloading multiple files from the internet simultaneously. While one thread is waiting for data to arrive from a server, another thread can be actively downloading another file.\n",
        "\n",
        "> *   **Improving Responsiveness (especially in GUIs):** In applications with a graphical user interface (GUI), performing long-running or blocking operations in the main thread can make the interface unresponsive (the application appears frozen). By moving these operations to separate threads, the main thread remains free to handle user interactions, keeping the GUI responsive.\n",
        ">     *   **Example:** Performing a complex calculation or loading a large file in a GUI application. If done in the main thread, the GUI would become unresponsive. Using a separate thread for the task allows the user to still interact with the interface.\n",
        "\n",
        "> *   **Simulating Concurrency:** Even with the GIL, multithreading can simulate concurrency by rapidly switching between threads. For I/O-bound tasks, where threads spend a lot of time waiting, this context switching allows the program to make progress on multiple operations concurrently, even if they aren't executing truly in parallel.\n",
        "\n",
        "> *   **Easier to Model Certain Problems:** Some problems are naturally structured around concurrent tasks. Multithreading can provide a more intuitive and straightforward way to model and implement solutions for these problems compared to other approaches.\n",
        "\n",
        "> **When Multithreading is NOT the primary solution (in Python due to GIL):**\n",
        "\n",
        "> *   **CPU-bound tasks:** For tasks that are computationally intensive and require a lot of CPU processing, multithreading in Python is generally *not* the most effective way to achieve true parallel speedup due to the GIL. In these cases, the `multiprocessing` module is usually a better choice as it uses separate processes, each with its own Python interpreter and memory space, allowing them to run on different CPU cores in parallel.\n",
        "\n",
        "> **In conclusion,** while the GIL is a limitation for CPU-bound parallelism in Python, multithreading remains a vital tool for improving the performance and responsiveness of **I/O-bound applications**. It allows programs to effectively manage waiting times and handle multiple I/O operations concurrently.\n",
        "\n",
        "\n",
        "\n",
        "\n",
        "---\n",
        "\n"
      ]
    },
    {
      "cell_type": "markdown",
      "source": [
        "#Practical Questions"
      ],
      "metadata": {
        "id": "D7GTufhJGmqW"
      }
    },
    {
      "cell_type": "markdown",
      "source": [
        "1. How can you open a file for writing in Python and write a string to it?\n"
      ],
      "metadata": {
        "id": "fMNUZe8YHZOO"
      }
    },
    {
      "cell_type": "markdown",
      "source": [
        "- Use Python’s built-in open() function with mode \"w\" (write).\n",
        "- \"w\" mode creates a new file or overwrites the existing file.\n",
        "- Use write() method to write string data.\n",
        "- Always close the file using close() OR use the with statement for automatic closing."
      ],
      "metadata": {
        "id": "CnuOFqPbHawv"
      }
    },
    {
      "cell_type": "code",
      "source": [
        "with open(\"file.txt\",\"w\") as f:\n",
        "  f.write(\"Hey, my name is Nishchay\")\n",
        "  f.write(\"\\nI am in PW DA course\")"
      ],
      "metadata": {
        "id": "0KiWx5HcHpQE"
      },
      "execution_count": 1,
      "outputs": []
    },
    {
      "cell_type": "markdown",
      "source": [
        "2. Write a Python program to read the contents of a file and print each line?"
      ],
      "metadata": {
        "id": "kXViQe6oH7Fd"
      }
    },
    {
      "cell_type": "code",
      "source": [
        "with open(\"file.txt\",\"r\") as f:\n",
        "  print(f.read())"
      ],
      "metadata": {
        "colab": {
          "base_uri": "https://localhost:8080/"
        },
        "id": "36_ksLMTHxGN",
        "outputId": "1e7d4fe4-6bf1-4276-cb96-1480403c0bad"
      },
      "execution_count": 2,
      "outputs": [
        {
          "output_type": "stream",
          "name": "stdout",
          "text": [
            "Hey, my name is Nishchay\n",
            "I am in PW DA course\n"
          ]
        }
      ]
    },
    {
      "cell_type": "markdown",
      "source": [
        "3. How would you handle a case where the file\n",
        " doesn't exist while trying to open it for reading?"
      ],
      "metadata": {
        "id": "o4ugl_vTIQyg"
      }
    },
    {
      "cell_type": "code",
      "source": [
        "try:\n",
        "   with open(\"non_existing_file.txt\", \"r\") as file:\n",
        "    print(file.read())\n",
        "except FileNotFoundError:\n",
        "      print(\"Error: The file does not exist.\")"
      ],
      "metadata": {
        "colab": {
          "base_uri": "https://localhost:8080/"
        },
        "id": "SvOK_ts6H_zR",
        "outputId": "bdf5cd5c-5d81-4f3c-85bd-3d072255b103"
      },
      "execution_count": 4,
      "outputs": [
        {
          "output_type": "stream",
          "name": "stdout",
          "text": [
            "Error: The file does not exist.\n"
          ]
        }
      ]
    },
    {
      "cell_type": "markdown",
      "source": [
        "4. Write a Python script that reads from one file and\n",
        " writes its content to another file."
      ],
      "metadata": {
        "id": "qsy_velBI4aI"
      }
    },
    {
      "cell_type": "code",
      "source": [
        "with open(\"file.txt\",\"r\")as f:\n",
        "  print(f.read())\n",
        "\n",
        "with open(\"file.txt\",\"r\") as firstfile:\n",
        "  with open(\"second_file.txt\",\"a\") as secondfile:\n",
        "    for line in firstfile:\n",
        "      secondfile.write(line)\n",
        "\n",
        "with open(\"second_file.txt\",\"r\")as f:\n",
        "  print(f.read())"
      ],
      "metadata": {
        "colab": {
          "base_uri": "https://localhost:8080/"
        },
        "id": "8Gw5984JIeYB",
        "outputId": "90f207ab-4667-4e9a-d014-38f4809cd380"
      },
      "execution_count": 5,
      "outputs": [
        {
          "output_type": "stream",
          "name": "stdout",
          "text": [
            "Hey, my name is Nishchay\n",
            "I am in PW DA course\n",
            "Hey, my name is Nishchay\n",
            "I am in PW DA course\n"
          ]
        }
      ]
    },
    {
      "cell_type": "markdown",
      "source": [
        "5. How would you catch and handle division by zero error in Python?"
      ],
      "metadata": {
        "id": "MxWrATK7JnAY"
      }
    },
    {
      "cell_type": "code",
      "source": [
        "try:\n",
        "    numerator = 10\n",
        "    denominator = 0\n",
        "    result = numerator / denominator\n",
        "    print(\"Result:\", result)\n",
        "except ZeroDivisionError:\n",
        "    print(\"Error: Division by zero is not allowed.\")"
      ],
      "metadata": {
        "colab": {
          "base_uri": "https://localhost:8080/"
        },
        "id": "pHcygQvCJaqc",
        "outputId": "e670b981-44ca-408b-be81-65ddbd709bad"
      },
      "execution_count": 6,
      "outputs": [
        {
          "output_type": "stream",
          "name": "stdout",
          "text": [
            "Error: Division by zero is not allowed.\n"
          ]
        }
      ]
    },
    {
      "cell_type": "markdown",
      "source": [
        "6. Write a Python program that logs an error message\n",
        " to a log file when a division by zero exception occurs"
      ],
      "metadata": {
        "id": "xUnn_-pSKA-S"
      }
    },
    {
      "cell_type": "code",
      "source": [
        "import logging\n",
        "logging.basicConfig(filename='error.log', level=logging.ERROR)\n",
        "\n",
        "try:\n",
        "  result = 10 / 0\n",
        "except ZeroDivisionError as e:\n",
        "  logging.error(\"Division by zero error occurred: %s\", e)\n",
        "  print(\"An error occurred and has been logged.\")"
      ],
      "metadata": {
        "colab": {
          "base_uri": "https://localhost:8080/"
        },
        "id": "tMJHULAtJz3C",
        "outputId": "7de64653-b6d9-4199-dee1-4784fd5379fe"
      },
      "execution_count": 7,
      "outputs": [
        {
          "output_type": "stream",
          "name": "stderr",
          "text": [
            "ERROR:root:Division by zero error occurred: division by zero\n"
          ]
        },
        {
          "output_type": "stream",
          "name": "stdout",
          "text": [
            "An error occurred and has been logged.\n"
          ]
        }
      ]
    },
    {
      "cell_type": "markdown",
      "source": [
        "7. How do you log information at different levels (INFO, ERROR, WARNING) in Python using the logging module?"
      ],
      "metadata": {
        "id": "ypk_lR4EKXUT"
      }
    },
    {
      "cell_type": "code",
      "source": [
        "import logging\n",
        " # Configure logging to write to a file\n",
        "logging.basicConfig(filename=\"app_log.txt\", level=logging.DEBUG,format='%(asctime)s - %(levelname)s - %(message)s')\n",
        " # Logging messages at different levels\n",
        "logging.info(\"This is an INFO message.\")\n",
        "logging.warning(\"This is a WARNING message.\")\n",
        "logging.error(\"This is an ERROR message.\")\n",
        "print(\" Messages logged to app_log.txt\")"
      ],
      "metadata": {
        "colab": {
          "base_uri": "https://localhost:8080/"
        },
        "id": "wDKRWkEqKLR-",
        "outputId": "8abfad80-39c3-4183-9fc5-3a55eb84a497"
      },
      "execution_count": 8,
      "outputs": [
        {
          "output_type": "stream",
          "name": "stderr",
          "text": [
            "WARNING:root:This is a WARNING message.\n",
            "ERROR:root:This is an ERROR message.\n"
          ]
        },
        {
          "output_type": "stream",
          "name": "stdout",
          "text": [
            " Messages logged to app_log.txt\n"
          ]
        }
      ]
    },
    {
      "cell_type": "markdown",
      "source": [
        "8.  Write a program to handle a file opening error using exception handling?"
      ],
      "metadata": {
        "id": "nl8CdKl5K7jy"
      }
    },
    {
      "cell_type": "code",
      "source": [
        "try:\n",
        "    # Attempt to open a file that may not exist\n",
        "    file = open(\"non_existing_file.txt\", \"r\")\n",
        "    content = file.read()\n",
        "    print(content)\n",
        "    file.close()\n",
        "except FileNotFoundError:\n",
        "    print(\"Error: The file could not be opened because it does not exist.\")"
      ],
      "metadata": {
        "colab": {
          "base_uri": "https://localhost:8080/"
        },
        "id": "9DBXpklOKwxv",
        "outputId": "65782cce-6748-4f09-fe2c-ba3bfe2891b3"
      },
      "execution_count": 9,
      "outputs": [
        {
          "output_type": "stream",
          "name": "stdout",
          "text": [
            "Error: The file could not be opened because it does not exist.\n"
          ]
        }
      ]
    },
    {
      "cell_type": "markdown",
      "source": [
        "9. How can you read a file line by line and store its\n",
        " content in a list in Python?"
      ],
      "metadata": {
        "id": "f5sGwNlULTXr"
      }
    },
    {
      "cell_type": "code",
      "source": [
        "with open(\"file.txt\",\"r\")as f:\n",
        "  r=f.readlines()\n",
        "  print(r)"
      ],
      "metadata": {
        "colab": {
          "base_uri": "https://localhost:8080/"
        },
        "id": "kLFJtyHNLOH6",
        "outputId": "599400e1-1bcf-4da3-8eb0-191b9024ce43"
      },
      "execution_count": 10,
      "outputs": [
        {
          "output_type": "stream",
          "name": "stdout",
          "text": [
            "['Hey, my name is Nishchay\\n', 'I am in PW DA course']\n"
          ]
        }
      ]
    },
    {
      "cell_type": "markdown",
      "source": [
        "10. How can you append data to an existing file in\n",
        " Python?"
      ],
      "metadata": {
        "id": "twAeR9hqLjv3"
      }
    },
    {
      "cell_type": "code",
      "source": [
        "with open(\"file.txt\",\"a\")as f:\n",
        "  f.write(\"\\nCourse fees is 20,000\")"
      ],
      "metadata": {
        "id": "yeKxrLp1LeMG"
      },
      "execution_count": 11,
      "outputs": []
    },
    {
      "cell_type": "markdown",
      "source": [
        "11. Write a Python program that uses a try-except\n",
        " block to handle an error when attempting to access a\n",
        " dictionary key that doesn't exist."
      ],
      "metadata": {
        "id": "vwk1-5OnL5UE"
      }
    },
    {
      "cell_type": "code",
      "source": [
        "my_dict = {\"name\": \"Nishchay\", \"age\": 24}\n",
        "try:\n",
        "  # Attempt to access a key that doesn't exist\n",
        "  print(my_dict[\"city\"])\n",
        "except KeyError:\n",
        "  print(\"Error: The key does not exist in the dictionary.\")"
      ],
      "metadata": {
        "colab": {
          "base_uri": "https://localhost:8080/"
        },
        "id": "TsWWz2GuLwEG",
        "outputId": "63431b9c-f740-4add-a957-c7480834b627"
      },
      "execution_count": 13,
      "outputs": [
        {
          "output_type": "stream",
          "name": "stdout",
          "text": [
            "Error: The key does not exist in the dictionary.\n"
          ]
        }
      ]
    },
    {
      "cell_type": "markdown",
      "source": [
        "12. Write a program that demonstrates using multiple\n",
        " except blocks to handle different types of exceptions."
      ],
      "metadata": {
        "id": "wonXeJGtMaY_"
      }
    },
    {
      "cell_type": "code",
      "source": [
        "try:\n",
        "    num1 = int(input(\"Enter numerator: \"))\n",
        "    num2 = int(input(\"Enter denominator: \"))\n",
        "    result = num1 / num2\n",
        "    print(\"Result:\", result)\n",
        "except ZeroDivisionError:\n",
        "    print(\"Error: Division by zero is not allowed.\")\n",
        "except ValueError:\n",
        "    print(\"Error: Please enter a valid integer.\")"
      ],
      "metadata": {
        "colab": {
          "base_uri": "https://localhost:8080/"
        },
        "id": "rEmme-sfMLAP",
        "outputId": "5eeefa7a-eb94-43e8-fc21-402551626bad"
      },
      "execution_count": 17,
      "outputs": [
        {
          "output_type": "stream",
          "name": "stdout",
          "text": [
            "Enter numerator: 10\n",
            "Enter denominator: 2.5\n",
            "Error: Please enter a valid integer.\n"
          ]
        }
      ]
    },
    {
      "cell_type": "markdown",
      "source": [
        "13. How would you check if a file exists before\n",
        " attempting to read it in Python?"
      ],
      "metadata": {
        "id": "kOgZuW7dN_yx"
      }
    },
    {
      "cell_type": "code",
      "source": [
        "import os\n",
        "file_name = \"file.txt\"\n",
        "if os.path.exists(file_name):\n",
        "    with open(file_name, \"r\") as file:\n",
        "        content = file.read()\n",
        "        print(\"File content:\")\n",
        "        print(content)\n",
        "else:\n",
        "    print(\"Error: The file does not exist.\")"
      ],
      "metadata": {
        "colab": {
          "base_uri": "https://localhost:8080/"
        },
        "id": "CEv8uw3aMy7V",
        "outputId": "a73e59d7-94ba-41d5-8203-94b4e4894ba8"
      },
      "execution_count": 18,
      "outputs": [
        {
          "output_type": "stream",
          "name": "stdout",
          "text": [
            "File content:\n",
            "Hey, my name is Nishchay\n",
            "I am in PW DA course\n",
            "Course fees is 20,000\n"
          ]
        }
      ]
    },
    {
      "cell_type": "markdown",
      "source": [
        "14. Write a program that uses the logging module to\n",
        " log both informational and error messages."
      ],
      "metadata": {
        "id": "RbMiX2QSOiZI"
      }
    },
    {
      "cell_type": "code",
      "source": [
        "import logging\n",
        "logging.basicConfig(filename=\"error.log\",level=logging.INFO)\n",
        "\n",
        "logging.info(\"this is informational message\")\n",
        "logging.error(\"this is error message\")\n",
        "\n",
        "logging.shutdown()"
      ],
      "metadata": {
        "colab": {
          "base_uri": "https://localhost:8080/"
        },
        "id": "TDuBu_XpOcwx",
        "outputId": "9f6e8565-a254-4334-cfe8-b570138ac346"
      },
      "execution_count": 19,
      "outputs": [
        {
          "output_type": "stream",
          "name": "stderr",
          "text": [
            "ERROR:root:this is error message\n"
          ]
        }
      ]
    },
    {
      "cell_type": "markdown",
      "source": [
        "15. Write a Python program that prints the content of a file and handles the case when the file is empty?"
      ],
      "metadata": {
        "id": "f_TC9s6eO9wn"
      }
    },
    {
      "cell_type": "code",
      "source": [
        "with open(\"empty.txt\",\"w\")as f:\n",
        " f.write(\"\")\n",
        "\n",
        "size = os.path.getsize(\"empty.txt\")\n",
        "\n",
        "if size==0:\n",
        "  print(\"The file is empty\")\n",
        "else:\n",
        "  with open(\"empty.txt\",\"r\")as f:\n",
        "    r=f.read()\n",
        "    print(r)"
      ],
      "metadata": {
        "colab": {
          "base_uri": "https://localhost:8080/"
        },
        "id": "j71zca5ROu__",
        "outputId": "eb8279bd-bad9-4fd5-c402-d3a61b419faf"
      },
      "execution_count": 22,
      "outputs": [
        {
          "output_type": "stream",
          "name": "stdout",
          "text": [
            "The file is empty\n"
          ]
        }
      ]
    },
    {
      "cell_type": "markdown",
      "source": [
        "16. Demonstrate how to use memory profiling to check the memory usage of a small program?"
      ],
      "metadata": {
        "id": "8XRrPXzwPqEd"
      }
    },
    {
      "cell_type": "code",
      "source": [
        "# Step 1: Install memory-profiler (only need to run once)\n",
        "!pip install memory-profiler\n",
        "# Step 2: Import the module\n",
        "from memory_profiler import memory_usage\n",
        "# Step 3: Define a small function\n",
        "def create_list():\n",
        "  my_list = [i for i in range(100000)]  # creates a list of 100,000 numbers\n",
        "  return my_list\n",
        "# Step 4: Measure memory usage\n",
        "mem_usage = memory_usage(create_list)\n",
        "print(\"Memory usage (in MB) during execution:\", mem_usage)"
      ],
      "metadata": {
        "colab": {
          "base_uri": "https://localhost:8080/"
        },
        "id": "3KVzXCZPPRaV",
        "outputId": "7e039704-1eba-4ecf-9afa-3b9af252bfe2"
      },
      "execution_count": 31,
      "outputs": [
        {
          "output_type": "stream",
          "name": "stdout",
          "text": [
            "Requirement already satisfied: memory-profiler in /usr/local/lib/python3.12/dist-packages (0.61.0)\n",
            "Requirement already satisfied: psutil in /usr/local/lib/python3.12/dist-packages (from memory-profiler) (5.9.5)\n",
            "Memory usage (in MB) during execution: [126.140625, 126.140625, 126.1484375, 126.9921875, 126.9921875, 126.9921875, 126.9921875]\n"
          ]
        }
      ]
    },
    {
      "cell_type": "markdown",
      "source": [
        "17.  Write a Python program to create and write a list of numbers to a file, one number per line"
      ],
      "metadata": {
        "id": "xCQCwdl3RfQH"
      }
    },
    {
      "cell_type": "code",
      "source": [
        "data=[1,2,3,4,5,6]\n",
        "import csv\n",
        "\n",
        "with open(\"file_csv.csv\",\"w\")as f:\n",
        "  writer=csv.writer(f)\n",
        "  for num in data:\n",
        "   writer.writerow([num])\n",
        "\n",
        "with open(\"file_csv.csv\",\"r\")as f:\n",
        "  reader=csv.reader(f)\n",
        "  for row in reader:\n",
        "    print(row)"
      ],
      "metadata": {
        "colab": {
          "base_uri": "https://localhost:8080/"
        },
        "id": "rOcpomCFPvbE",
        "outputId": "6b6108b9-4cf0-423e-c33d-f30bfb8c96d1"
      },
      "execution_count": 32,
      "outputs": [
        {
          "output_type": "stream",
          "name": "stdout",
          "text": [
            "['1']\n",
            "['2']\n",
            "['3']\n",
            "['4']\n",
            "['5']\n",
            "['6']\n"
          ]
        }
      ]
    },
    {
      "cell_type": "markdown",
      "source": [
        "18. How would you implement a basic logging setup that logs to a file with rotation after 1MB?"
      ],
      "metadata": {
        "id": "UBxDie-uRtUp"
      }
    },
    {
      "cell_type": "code",
      "source": [
        "import logging\n",
        "from logging.handlers import RotatingFileHandler\n",
        "\n",
        "logging.basicConfig(filename=\"test_log.txt\",level=logging.INFO)\n",
        "\n",
        "logging.info(\"this is info message\")\n",
        "logging.error(\"this is error message\")\n",
        "logging.warning(\"this is last warning\")\n",
        "\n",
        "logging.shutdown()"
      ],
      "metadata": {
        "colab": {
          "base_uri": "https://localhost:8080/"
        },
        "id": "XhVFOTFmRi_B",
        "outputId": "10b701f4-265b-4653-82bb-513723c5c83d"
      },
      "execution_count": 33,
      "outputs": [
        {
          "output_type": "stream",
          "name": "stderr",
          "text": [
            "ERROR:root:this is error message\n",
            "WARNING:root:this is last warning\n"
          ]
        }
      ]
    },
    {
      "cell_type": "markdown",
      "source": [
        "19. Write a program that handles both IndexError and KeyError using a try-except block?"
      ],
      "metadata": {
        "id": "cq4db9eUSvw8"
      }
    },
    {
      "cell_type": "code",
      "source": [
        "try:\n",
        "  dic={\"name\":\"Nishchay\",\"age\":24}\n",
        "  dic[\"course\"]\n",
        "  l1=[1,2,3,4]\n",
        "  l1[5]\n",
        "except (KeyError,IndexError) as e:\n",
        "  print(\"error is:\",e)"
      ],
      "metadata": {
        "colab": {
          "base_uri": "https://localhost:8080/"
        },
        "id": "psEZHUHpRwgT",
        "outputId": "aef99807-a526-4ee5-8399-aab34366fa9e"
      },
      "execution_count": 34,
      "outputs": [
        {
          "output_type": "stream",
          "name": "stdout",
          "text": [
            "error is: 'course'\n"
          ]
        }
      ]
    },
    {
      "cell_type": "markdown",
      "source": [
        "20. How would you open a file and read its contents using a context manager in Python?"
      ],
      "metadata": {
        "id": "5bj5eu6STHYl"
      }
    },
    {
      "cell_type": "code",
      "source": [
        "with open(\"file.txt\",\"r\")as f:\n",
        "  r=f.read()\n",
        "  print(r)"
      ],
      "metadata": {
        "colab": {
          "base_uri": "https://localhost:8080/"
        },
        "id": "KFndMLvFS5nu",
        "outputId": "f55dec0f-cddf-4de7-e978-12e85f9cf1aa"
      },
      "execution_count": 35,
      "outputs": [
        {
          "output_type": "stream",
          "name": "stdout",
          "text": [
            "Hey, my name is Nishchay\n",
            "I am in PW DA course\n",
            "Course fees is 20,000\n"
          ]
        }
      ]
    },
    {
      "cell_type": "markdown",
      "source": [
        "21. Write a Python program that reads a file and prints\n",
        " the number of occurrences of a specific word."
      ],
      "metadata": {
        "id": "SHoDhO9lTVW5"
      }
    },
    {
      "cell_type": "code",
      "source": [
        "with open(\"file.txt\",\"r\")as f:\n",
        "  r=f.read()\n",
        "  print(r.count(\"Nishchay\"))"
      ],
      "metadata": {
        "colab": {
          "base_uri": "https://localhost:8080/"
        },
        "id": "4vLbmNJGTMQZ",
        "outputId": "a0acfebd-9a8d-466a-9952-a384a9db978b"
      },
      "execution_count": 39,
      "outputs": [
        {
          "output_type": "stream",
          "name": "stdout",
          "text": [
            "1\n"
          ]
        }
      ]
    },
    {
      "cell_type": "markdown",
      "source": [
        "22. How can you check if a file is empty before attempting to read its contents?"
      ],
      "metadata": {
        "id": "3E_fdb4ZTreu"
      }
    },
    {
      "cell_type": "code",
      "source": [
        "import os\n",
        "size = os.path.getsize(\"file.txt\")\n",
        "\n",
        "if size==0:\n",
        "  print(\"file is empty\")\n",
        "else:\n",
        "  with open(\"file.txt\",\"r\")as f:\n",
        "    r=f.read()\n",
        "    print(\"this file is not empty: \\n\",r)"
      ],
      "metadata": {
        "colab": {
          "base_uri": "https://localhost:8080/"
        },
        "id": "cvxBtFpZTc4y",
        "outputId": "0c70efc6-970d-4a37-ee73-6363062371f3"
      },
      "execution_count": 42,
      "outputs": [
        {
          "output_type": "stream",
          "name": "stdout",
          "text": [
            "this file is not empty: \n",
            " Hey, my name is Nishchay\n",
            "I am in PW DA course\n",
            "Course fees is 20,000\n"
          ]
        }
      ]
    },
    {
      "cell_type": "markdown",
      "source": [
        "23. Write a Python program that writes to a log file when an error occurs during file handling."
      ],
      "metadata": {
        "id": "5VI-tnV0T-Aa"
      }
    },
    {
      "cell_type": "code",
      "source": [
        "import logging\n",
        " # Configure logging to write to a file\n",
        "logging.basicConfig(filename=\"file_error_log.txt\", level=logging.ERROR,\n",
        " format='%(asctime)s - %(levelname)s - %(message)s')\n",
        "file_name = \"non_existing_file.txt\"\n",
        "try:\n",
        "  with open(file_name, \"r\") as file:\n",
        "    content = file.read()\n",
        "except FileNotFoundError as e:\n",
        "  logging.error(f\"Error occurred: {e}\")\n",
        "  print(\"Error logged to file_error_log.txt\")"
      ],
      "metadata": {
        "colab": {
          "base_uri": "https://localhost:8080/"
        },
        "id": "7x_XuEpNTu5I",
        "outputId": "0e324634-0706-4ea2-dc14-6cb8837bf631"
      },
      "execution_count": 45,
      "outputs": [
        {
          "output_type": "stream",
          "name": "stderr",
          "text": [
            "ERROR:root:Error occurred: [Errno 2] No such file or directory: 'non_existing_file.txt'\n"
          ]
        },
        {
          "output_type": "stream",
          "name": "stdout",
          "text": [
            "Error logged to file_error_log.txt\n"
          ]
        }
      ]
    },
    {
      "cell_type": "code",
      "source": [],
      "metadata": {
        "id": "GEIaE2HKUCwQ"
      },
      "execution_count": null,
      "outputs": []
    }
  ]
}